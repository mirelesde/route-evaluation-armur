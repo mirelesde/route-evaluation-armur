{
 "cells": [
  {
   "cell_type": "markdown",
   "metadata": {},
   "source": [
    "## Preparación inicial"
   ]
  },
  {
   "cell_type": "code",
   "execution_count": 1,
   "metadata": {},
   "outputs": [],
   "source": [
    "import pandas as pd\n",
    "import requests\n",
    "import seaborn as sns\n",
    "import matplotlib.pyplot as plt\n",
    "import folium\n",
    "import io\n",
    "from PIL import Image\n",
    "import selenium\n",
    "import polyline\n",
    "import numpy as np"
   ]
  },
  {
   "cell_type": "code",
   "execution_count": 2,
   "metadata": {},
   "outputs": [],
   "source": [
    "xls = pd.ExcelFile('Prueba.xlsx')"
   ]
  },
  {
   "cell_type": "code",
   "execution_count": null,
   "metadata": {},
   "outputs": [],
   "source": [
    "sheet_names = xls.sheet_names\n",
    "sheet_names"
   ]
  },
  {
   "cell_type": "code",
   "execution_count": 4,
   "metadata": {},
   "outputs": [],
   "source": [
    "punto_partida_df = pd.read_excel(xls, 'PuntoPartida')\n",
    "punto_llegada_df = pd.read_excel(xls, 'PuntoLlegada')\n",
    "siniestros_df = pd.read_excel(xls, 'Siniestros')"
   ]
  },
  {
   "cell_type": "markdown",
   "metadata": {},
   "source": [
    "### Análisis Exploratorio\n",
    "* Las coordenadas en ```punto_partida_df``` y ```punto_llegada_df``` están escritas en la notación *decimal degrees*.\n",
    "* Las latitudes deben de ser números entre -90 y 90 grados.\n",
    "* Las longitudes deben de ser números entre -180 y 180 grados.\n",
    "\n",
    "#### punto_partida_df"
   ]
  },
  {
   "cell_type": "code",
   "execution_count": null,
   "metadata": {},
   "outputs": [],
   "source": [
    "punto_partida_df.dtypes"
   ]
  },
  {
   "cell_type": "code",
   "execution_count": null,
   "metadata": {},
   "outputs": [],
   "source": [
    "punto_partida_df.head()"
   ]
  },
  {
   "cell_type": "markdown",
   "metadata": {},
   "source": [
    "#### punto_llegada_df"
   ]
  },
  {
   "cell_type": "code",
   "execution_count": null,
   "metadata": {},
   "outputs": [],
   "source": [
    "punto_llegada_df.dtypes"
   ]
  },
  {
   "cell_type": "markdown",
   "metadata": {},
   "source": [
    "* La columna ```longitud``` debería ser de tipo ```float64```."
   ]
  },
  {
   "cell_type": "code",
   "execution_count": null,
   "metadata": {},
   "outputs": [],
   "source": [
    "punto_llegada_df.head()"
   ]
  },
  {
   "cell_type": "markdown",
   "metadata": {},
   "source": [
    "* Un valor en la columna *Longitud* no es un float valido pues termina con una coma."
   ]
  },
  {
   "cell_type": "code",
   "execution_count": 9,
   "metadata": {},
   "outputs": [],
   "source": [
    "# Remove any commas from the 'Longitud' column\n",
    "punto_llegada_df['Longitud'] = punto_llegada_df['Longitud'].astype(str).str.replace(',', '', regex=False)\n",
    "\n",
    "# Optionally, convert the cleaned column back to numeric if it's supposed to be numbers\n",
    "punto_llegada_df['Longitud'] = pd.to_numeric(punto_llegada_df['Longitud'], errors='coerce')"
   ]
  },
  {
   "cell_type": "code",
   "execution_count": null,
   "metadata": {},
   "outputs": [],
   "source": [
    "punto_llegada_df.head()"
   ]
  },
  {
   "cell_type": "code",
   "execution_count": null,
   "metadata": {},
   "outputs": [],
   "source": [
    "punto_llegada_df.dtypes"
   ]
  },
  {
   "cell_type": "markdown",
   "metadata": {},
   "source": [
    "#### siniestros_df"
   ]
  },
  {
   "cell_type": "code",
   "execution_count": null,
   "metadata": {},
   "outputs": [],
   "source": [
    "siniestros_df.dtypes"
   ]
  },
  {
   "cell_type": "code",
   "execution_count": null,
   "metadata": {},
   "outputs": [],
   "source": [
    "siniestros_df.head()"
   ]
  },
  {
   "cell_type": "code",
   "execution_count": null,
   "metadata": {},
   "outputs": [],
   "source": [
    "siniestros_df.groupby('Evento')[['ValorPerdido']].sum().reset_index().sort_values(by='ValorPerdido', ascending=False).head().T"
   ]
  },
  {
   "cell_type": "markdown",
   "metadata": {},
   "source": [
    "## Calcular driving distance"
   ]
  },
  {
   "cell_type": "code",
   "execution_count": null,
   "metadata": {},
   "outputs": [],
   "source": [
    "rutas_df = pd.merge(\n",
    "    punto_partida_df,\n",
    "    punto_llegada_df,\n",
    "    on=['IDRuta', 'NombreRuta', 'ValorMercancia', 'IDConductor'],\n",
    "    suffixes=('Partida', 'Llegada')  # To differentiate columns if any aren't shared\n",
    ")\n",
    "\n",
    "# Show the merged DataFrame\n",
    "rutas_df"
   ]
  },
  {
   "cell_type": "code",
   "execution_count": null,
   "metadata": {},
   "outputs": [],
   "source": [
    "def get_driving_distance(start_coords, end_coords):\n",
    "    # Unpack the coordinates\n",
    "    start_lon, start_lat = start_coords\n",
    "    end_lon, end_lat = end_coords\n",
    "\n",
    "    # OSRM API endpoint\n",
    "    url = f\"http://router.project-osrm.org/route/v1/driving/{start_lon},{start_lat};{end_lon},{end_lat}?overview=false\"\n",
    "\n",
    "    # Send the request to OSRM API\n",
    "    response = requests.get(url)\n",
    "    \n",
    "    # Parse the JSON response\n",
    "    data = response.json()\n",
    "\n",
    "    if data and 'routes' in data:\n",
    "        # Extract the distance in meters\n",
    "        distance = data['routes'][0]['distance']\n",
    "        # Extract the duration in seconds\n",
    "        duration = data['routes'][0]['duration']\n",
    "        return distance, duration\n",
    "    else:\n",
    "        return None, None\n",
    "\n",
    "# Example usage with coordinates from your spreadsheet\n",
    "start_coords = (-100.31654, 25.6963)  # Starting point coordinates\n",
    "end_coords = (-100.228542, 25.550476)  # Destination point coordinates\n",
    "\n",
    "distance, duration = get_driving_distance(start_coords, end_coords)\n",
    "print(f\"Driving Distance: {distance} meters, Duration: {duration} seconds\")"
   ]
  },
  {
   "cell_type": "code",
   "execution_count": 17,
   "metadata": {},
   "outputs": [],
   "source": [
    "# Apply function to each row in rutas_df\n",
    "def apply_driving_distance(row):\n",
    "    # Extract the starting and ending coordinates\n",
    "    start_coords = (row['LongitudPartida'], row['LatitudPartida'])\n",
    "    end_coords = (row['LongitudLlegada'], row['LatitudLlegada'])\n",
    "    \n",
    "    # Get the driving distance and duration\n",
    "    distance, duration = get_driving_distance(start_coords, end_coords)\n",
    "    \n",
    "    return pd.Series([distance, duration], index=['DistanceMeters', 'DurationSeconds'])\n",
    "\n",
    "# Apply the function to every row and store results in new columns\n",
    "rutas_df[['DistanceMeters', 'DurationSeconds']] = rutas_df.apply(apply_driving_distance, axis=1)"
   ]
  },
  {
   "cell_type": "code",
   "execution_count": null,
   "metadata": {},
   "outputs": [],
   "source": [
    "rutas_df"
   ]
  },
  {
   "cell_type": "code",
   "execution_count": 19,
   "metadata": {},
   "outputs": [],
   "source": [
    "rutas_df['DistanceKm'] = rutas_df['DistanceMeters']/1000\n",
    "rutas_df['DurationMinutes'] = rutas_df['DurationSeconds']/60"
   ]
  },
  {
   "cell_type": "code",
   "execution_count": null,
   "metadata": {},
   "outputs": [],
   "source": [
    "rutas_df[['IDRuta', 'NombreRuta', 'DistanceKm', 'DurationMinutes']]"
   ]
  },
  {
   "cell_type": "markdown",
   "metadata": {},
   "source": [
    "## Visualizar ```siniestros_df```"
   ]
  },
  {
   "cell_type": "markdown",
   "metadata": {},
   "source": [
    "### Distribución de tipos de evento"
   ]
  },
  {
   "cell_type": "code",
   "execution_count": null,
   "metadata": {},
   "outputs": [],
   "source": [
    "# Apply Seaborn theme to Matplotlib plots\n",
    "sns.set_theme()\n",
    "\n",
    "# Assuming 'TipoSiniestro' is the column that contains the siniestro types\n",
    "# Count the occurrences of each type\n",
    "siniestro_counts = siniestros_df['Evento'].value_counts()\n",
    "\n",
    "# Plot the pie chart\n",
    "plt.figure(figsize=(8, 8))  # Optional: Set the figure size\n",
    "plt.pie(siniestro_counts, labels=siniestro_counts.index, autopct='%1.1f%%', startangle=90, colors=sns.color_palette(\"pastel\"))\n",
    "plt.title('Distribución de tipo de siniestro')\n",
    "plt.axis('equal')  # Equal aspect ratio ensures the pie is drawn as a circle\n",
    "plt.show()\n"
   ]
  },
  {
   "cell_type": "markdown",
   "metadata": {},
   "source": [
    "### Distribución de valor perdido"
   ]
  },
  {
   "cell_type": "code",
   "execution_count": null,
   "metadata": {},
   "outputs": [],
   "source": [
    "# Set Seaborn theme for better aesthetics\n",
    "sns.set_theme()\n",
    "\n",
    "# Plot the histogram of \"Valor Perdido\"\n",
    "plt.figure(figsize=(10, 6))  # Optional: Set figure size\n",
    "sns.histplot(siniestros_df['ValorPerdido'], bins=20, kde=True, color='skyblue')\n",
    "\n",
    "# Add titles and labels\n",
    "plt.title('Distribución de Valor Perdido', fontsize=16)\n",
    "plt.xlabel('Valor Perdido', fontsize=14)\n",
    "plt.ylabel('Frecuencia', fontsize=14)\n",
    "\n",
    "# Show the plot\n",
    "plt.show()"
   ]
  },
  {
   "cell_type": "markdown",
   "metadata": {},
   "source": [
    "### Distribución de valor perdido por tipo de incidente"
   ]
  },
  {
   "cell_type": "code",
   "execution_count": null,
   "metadata": {},
   "outputs": [],
   "source": [
    "# Group the data by 'Evento' and 'Subtipo'\n",
    "incidentes_df = siniestros_df[['Evento', 'ValorPerdido']]\n",
    "\n",
    "# Create a boxplot to visualize the distribution of 'ValorPerdido' for each 'Subtipo'\n",
    "plt.figure(figsize=(10, 6))\n",
    "sns.boxplot(x='Evento', y='ValorPerdido', data=incidentes_df, palette='Set2')\n",
    "\n",
    "# Add labels and title\n",
    "plt.title('Distribución de Valor Perdido por Evento', fontsize=14)\n",
    "plt.xlabel('Evento', fontsize=12)\n",
    "plt.ylabel('Valor Perdido', fontsize=12)\n",
    "\n",
    "# Rotate the x-axis labels for better readability\n",
    "plt.xticks(rotation=45)\n",
    "\n",
    "# Show the plot\n",
    "plt.tight_layout()\n",
    "plt.show()"
   ]
  },
  {
   "cell_type": "markdown",
   "metadata": {},
   "source": [
    "### Visualización geográfica de siniestros\n",
    "\n",
    "* Crear un diccionario de tipos de eventos con color correspondiente."
   ]
  },
  {
   "cell_type": "code",
   "execution_count": null,
   "metadata": {},
   "outputs": [],
   "source": [
    "eventos = siniestros_df.Evento.unique()\n",
    "eventos"
   ]
  },
  {
   "cell_type": "code",
   "execution_count": 25,
   "metadata": {},
   "outputs": [],
   "source": [
    "colors = ['blue', 'green', 'red', 'yellow', 'purple']"
   ]
  },
  {
   "cell_type": "code",
   "execution_count": null,
   "metadata": {},
   "outputs": [],
   "source": [
    "event_colors = dict(zip(eventos, colors))\n",
    "event_colors"
   ]
  },
  {
   "cell_type": "markdown",
   "metadata": {},
   "source": [
    "* Crear mapa usando ```folium```. Creamos un mapa base que tenga como su centro el promedio de las coordenadas de los siniestros."
   ]
  },
  {
   "cell_type": "code",
   "execution_count": null,
   "metadata": {},
   "outputs": [],
   "source": [
    "# Create a base map centered around the average coordinates\n",
    "m = folium.Map(location=[siniestros_df['Latitud'].mean(), siniestros_df['Longitud'].mean()], zoom_start=11, zoom_control=False)\n",
    "\n",
    "# Loop through the DataFrame to add markers for each event\n",
    "for index, row in siniestros_df.iterrows():\n",
    "    folium.Marker(\n",
    "        location=[row['Latitud'], row['Longitud']],\n",
    "        popup=row['Evento'],  # This shows the event type on marker click\n",
    "        icon=folium.Icon(color=event_colors.get(row['Evento'], 'gray'), icon='glyphicon glyphicon-warning-sign')  # Default to gray if type not found\n",
    "    ).add_to(m)\n",
    "    \n",
    "m"
   ]
  },
  {
   "cell_type": "markdown",
   "metadata": {},
   "source": [
    "* Crear una leyenda para poder distinguir los tipos de eventos en el mapa."
   ]
  },
  {
   "cell_type": "code",
   "execution_count": null,
   "metadata": {},
   "outputs": [],
   "source": [
    "legend_items = ''.join(\n",
    "    f'<li><span style=\"background-color: {color}; width: 20px; height: 20px; display: inline-block;\"></span> {event_type}</li>'\n",
    "    for event_type, color in event_colors.items()\n",
    ")\n",
    "\n",
    "legend_html = f'''\n",
    "    <div style=\"position: fixed; \n",
    "                top: 10px; left: 10px; \n",
    "                width: 150px; height: auto; \n",
    "                z-index: 1000; \n",
    "                background-color: white; \n",
    "                border:2px solid grey; \n",
    "                border-radius:5px; \n",
    "                padding: 10px;\">\n",
    "        <h4 style=\"margin: 0;\">Tipo de Evento</h4>\n",
    "        <ul style=\"list-style-type:none; padding: 0;\">\n",
    "            {legend_items}\n",
    "        </ul>\n",
    "    </div>\n",
    "'''\n",
    "\n",
    "# Add the legend to the map\n",
    "m.get_root().html.add_child(folium.Element(legend_html))\n",
    "\n",
    "\n",
    "# Save the map to an HTML file\n",
    "m.save('html/siniestros_mapa.html')\n",
    "\n",
    "m"
   ]
  },
  {
   "cell_type": "markdown",
   "metadata": {},
   "source": [
    "* Guardar imagen usando ```selenium```."
   ]
  },
  {
   "cell_type": "code",
   "execution_count": 29,
   "metadata": {},
   "outputs": [],
   "source": [
    "img_data = m._to_png(5)\n",
    "img = Image.open(io.BytesIO(img_data))\n",
    "img.save('images/siniestros_mapa.png')"
   ]
  },
  {
   "cell_type": "markdown",
   "metadata": {},
   "source": [
    "## Visualizacón de rutas\n",
    "* Para visualizar las rutas, continuar usando ```folium``` y obtener coordenadas de rutas utilizando *OSM*."
   ]
  },
  {
   "cell_type": "code",
   "execution_count": 30,
   "metadata": {},
   "outputs": [],
   "source": [
    "# Function to get route coordinates from OSRM\n",
    "def get_route(start_coords, end_coords):\n",
    "    url = f\"http://router.project-osrm.org/route/v1/driving/{start_coords[1]},{start_coords[0]};{end_coords[1]},{end_coords[0]}?overview=full\"\n",
    "    response = requests.get(url)\n",
    "    \n",
    "    if response.status_code == 200:\n",
    "        route = response.json()\n",
    "        if route.get('routes'):  # Check if 'routes' exists\n",
    "            # Decode the polyline to get a list of (lat, lon) tuples\n",
    "            polyline_points = route['routes'][0]['geometry']\n",
    "            return polyline.decode(polyline_points)  # Decode the polyline\n",
    "        else:\n",
    "            print(\"No routes found in the response:\", route)  # Debugging output\n",
    "    else:\n",
    "        print(f\"Error {response.status_code}: {response.text}\")  # Print error message for debugging\n",
    "    \n",
    "    return None"
   ]
  },
  {
   "cell_type": "code",
   "execution_count": null,
   "metadata": {},
   "outputs": [],
   "source": [
    "# Create a base map centered around the average coordinates of the routes\n",
    "average_lat = (rutas_df['LatitudPartida'].mean() + rutas_df['LatitudLlegada'].mean()) / 2\n",
    "average_lon = (rutas_df['LongitudPartida'].mean() + rutas_df['LongitudLlegada'].mean()) / 2\n",
    "m = folium.Map(location=[average_lat, average_lon], zoom_start=11)\n",
    "\n",
    "m"
   ]
  },
  {
   "cell_type": "code",
   "execution_count": null,
   "metadata": {},
   "outputs": [],
   "source": [
    "# Redefinir colors para re-ejecutar celda sin necesidad de ejecutar celdas anteriores\n",
    "colors = ['blue', 'green', 'red', 'black', 'purple']\n",
    "\n",
    "# Loop through the rutas_df to add markers and draw routes\n",
    "for index, row in rutas_df.iterrows():\n",
    "    color = colors.pop()\n",
    "    \n",
    "    start_coords = (row['LatitudPartida'], row['LongitudPartida'])\n",
    "    end_coords = (row['LatitudLlegada'], row['LongitudLlegada'])\n",
    "    \n",
    "    # Get the route coordinates from OSRM\n",
    "    route_coords = get_route(start_coords, end_coords)\n",
    "\n",
    "    if route_coords:\n",
    "        # Add a marker for the starting point\n",
    "        folium.Marker(\n",
    "            location=start_coords,\n",
    "            popup=f\"Ruta: {row['IDRuta']} - Salida\",\n",
    "            icon=folium.Icon(color=color, icon='glyphicon glyphicon-map-marker')\n",
    "        ).add_to(m)\n",
    "        \n",
    "        # Add a marker for the ending point\n",
    "        folium.Marker(\n",
    "            location=end_coords,\n",
    "            popup=f\"Ruta: {row['IDRuta']} - Llegada\",\n",
    "            icon=folium.Icon(color=color, icon='glyphicon glyphicon-map-marker')\n",
    "        ).add_to(m)\n",
    "        # Draw a line using the route coordinates\n",
    "        folium.PolyLine(locations=route_coords, color=color).add_to(m)\n",
    "\n",
    "# Save the map to an HTML file\n",
    "m.save('html/rutas_mapa.html')\n",
    "\n",
    "# Display the map\n",
    "m"
   ]
  },
  {
   "cell_type": "code",
   "execution_count": 33,
   "metadata": {},
   "outputs": [],
   "source": [
    "img_data = m._to_png(5)\n",
    "img = Image.open(io.BytesIO(img_data))\n",
    "img.save('images/rutas_mapa.png')"
   ]
  },
  {
   "cell_type": "markdown",
   "metadata": {},
   "source": [
    "## Visualizar rutas y siniestros en conjunto"
   ]
  },
  {
   "cell_type": "code",
   "execution_count": null,
   "metadata": {},
   "outputs": [],
   "source": [
    "for index, row in siniestros_df.iterrows():\n",
    "    folium.Marker(\n",
    "        location=[row['Latitud'], row['Longitud']],\n",
    "        popup=row['Evento'],  # This shows the event type on marker click\n",
    "        icon=folium.Icon(color=event_colors.get(row['Evento'], 'gray'), icon='glyphicon glyphicon-warning-sign')  # Default to gray if type not found\n",
    "    ).add_to(m)\n",
    "    \n",
    "m"
   ]
  },
  {
   "cell_type": "code",
   "execution_count": null,
   "metadata": {},
   "outputs": [],
   "source": [
    "legend_items = ''.join(\n",
    "    f'<li><span style=\"background-color: {color}; width: 20px; height: 20px; display: inline-block;\"></span> {event_type}</li>'\n",
    "    for event_type, color in event_colors.items()\n",
    ")\n",
    "\n",
    "legend_html = f'''\n",
    "    <div style=\"position: fixed; \n",
    "                top: 10px; left: 10px; \n",
    "                width: 150px; height: auto; \n",
    "                z-index: 1000; \n",
    "                background-color: white; \n",
    "                border:2px solid grey; \n",
    "                border-radius:5px; \n",
    "                padding: 10px;\">\n",
    "        <h4 style=\"margin: 0;\">Tipo de Evento</h4>\n",
    "        <ul style=\"list-style-type:none; padding: 0;\">\n",
    "            {legend_items}\n",
    "        </ul>\n",
    "    </div>\n",
    "'''\n",
    "\n",
    "# Add the legend to the map\n",
    "m.get_root().html.add_child(folium.Element(legend_html))\n",
    "\n",
    "\n",
    "# Save the map to an HTML file\n",
    "m.save('html/mapa.html')\n",
    "\n",
    "m"
   ]
  },
  {
   "cell_type": "code",
   "execution_count": 36,
   "metadata": {},
   "outputs": [],
   "source": [
    "img_data = m._to_png(5)\n",
    "img = Image.open(io.BytesIO(img_data))\n",
    "img.save('images/mapa.png')"
   ]
  },
  {
   "cell_type": "markdown",
   "metadata": {},
   "source": [
    "## Evaluar riesgo de rutas\n",
    "\n",
    "Para evaluar el riesgo de las rutas, existen diferentes variables para tomar en cuenta:\n",
    "* Frecuencia de los tipos de siniestros\n",
    "* Severidad de los tipos de siniestros\n",
    "* Cercanía de las rutas a los siniestros\n",
    "* Uso de violencia\n",
    "* Valor perdido"
   ]
  },
  {
   "cell_type": "code",
   "execution_count": null,
   "metadata": {},
   "outputs": [],
   "source": [
    "incidentes_df.groupby('Evento').describe()"
   ]
  },
  {
   "cell_type": "code",
   "execution_count": 38,
   "metadata": {},
   "outputs": [],
   "source": [
    "# Function to calculate Euclidean distance between two points (in lat/lon)\n",
    "def euclidean_distance(coord1, coord2):\n",
    "    # Approximate conversion factor: 1 degree of latitude ~ 111 km, longitude varies by latitude\n",
    "    lat1, lon1 = np.radians(coord1)\n",
    "    lat2, lon2 = np.radians(coord2)\n",
    "    delta_lat = lat2 - lat1\n",
    "    delta_lon = lon2 - lon1\n",
    "    \n",
    "    # Use Haversine approximation to compute distance\n",
    "    a = np.sin(delta_lat / 2) ** 2 + np.cos(lat1) * np.cos(lat2) * np.sin(delta_lon / 2) ** 2\n",
    "    c = 2 * np.arctan2(np.sqrt(a), np.sqrt(1 - a))\n",
    "    \n",
    "    # Earth's radius in kilometers\n",
    "    R = 6371.0\n",
    "    return R * c"
   ]
  },
  {
   "cell_type": "code",
   "execution_count": null,
   "metadata": {},
   "outputs": [],
   "source": [
    "for index, row in rutas_df.iterrows():\n",
    "    start_coords = (row['LatitudPartida'], row['LongitudPartida'])\n",
    "    end_coords = (row['LatitudLlegada'], row['LongitudLlegada'])\n",
    "    \n",
    "    # Get the route coordinates from OSRM\n",
    "    route_coords = get_route(start_coords, end_coords)\n",
    "\n",
    "    if route_coords:\n",
    "    # Check for incidents within 5 km of any point on the route\n",
    "        incidents_near_route = []\n",
    "        \n",
    "        for _, incident in siniestros_df.iterrows():\n",
    "            incident_coords = (incident['Latitud'], incident['Longitud'])\n",
    "            \n",
    "            # Check proximity to each point in the route using Euclidean distance\n",
    "            for route_point in route_coords:\n",
    "                if euclidean_distance(route_point, incident_coords) <= 5: # 5 km\n",
    "                    incidents_near_route.append(incident)\n",
    "                    break  # No need to check further points if within radius\n",
    "        print(f'{rutas_df.iloc[index][\"IDRuta\"]} - {rutas_df.iloc[index][\"NombreRuta\"]}: \\t{len(incidents_near_route)} incidentes')"
   ]
  },
  {
   "cell_type": "code",
   "execution_count": null,
   "metadata": {},
   "outputs": [],
   "source": [
    "rutas_riesgo_df = []\n",
    "\n",
    "for index, row in rutas_df.iterrows():\n",
    "    start_coords = (row['LatitudPartida'], row['LongitudPartida'])\n",
    "    end_coords = (row['LatitudLlegada'], row['LongitudLlegada'])\n",
    "    \n",
    "    # Get the route coordinates from OSRM\n",
    "    route_coords = get_route(start_coords, end_coords)\n",
    "\n",
    "    if route_coords:\n",
    "    # Check for incidents within 5 km of any point on the route\n",
    "        incidents_near_route = []\n",
    "        \n",
    "        for _, incident in siniestros_df.iterrows():\n",
    "            incident_coords = (incident['Latitud'], incident['Longitud'])\n",
    "            \n",
    "            # Check proximity to each point in the route using Euclidean distance\n",
    "            for route_point in route_coords:\n",
    "                if euclidean_distance(route_point, incident_coords) <= 5: # 5 km\n",
    "                    incidents_near_route.append(incident)\n",
    "                    break  # No need to check further points if within radius\n",
    "        print(f'{rutas_df.iloc[index][\"IDRuta\"]} - {rutas_df.iloc[index][\"NombreRuta\"]}: \\t{len(incidents_near_route)} incidentes')\n",
    "        \n",
    "        # Evaluate risk: incident frequency and total lost value\n",
    "        incident_frequency = len(incidents_near_route)\n",
    "        total_valor_perdido = sum(inc['ValorPerdido'] for inc in incidents_near_route)\n",
    "        \n",
    "        # Store the results for this route\n",
    "        rutas_riesgo_df.append({\n",
    "            'RouteIndex': index,\n",
    "            'IDRuta': rutas_df.iloc[index]['IDRuta'],\n",
    "            'IncidentFrequency': incident_frequency,\n",
    "            'TotalValorPerdido': total_valor_perdido,\n",
    "            'RiskScore': (incident_frequency) + (total_valor_perdido / 100000)\n",
    "        })\n",
    "\n",
    "# Convert the risk evaluation results into a DataFrame for analysis\n",
    "route_risk_df = pd.DataFrame(rutas_riesgo_df)"
   ]
  },
  {
   "cell_type": "code",
   "execution_count": null,
   "metadata": {},
   "outputs": [],
   "source": [
    "route_risk_df.head()"
   ]
  },
  {
   "cell_type": "code",
   "execution_count": 42,
   "metadata": {},
   "outputs": [],
   "source": [
    "rutas_df =rutas_df.merge(route_risk_df, how='left', on='IDRuta')"
   ]
  },
  {
   "cell_type": "code",
   "execution_count": null,
   "metadata": {},
   "outputs": [],
   "source": [
    "rutas_df.sort_values(by='RiskScore', ascending=False)[['IDRuta', 'NombreRuta', 'IncidentFrequency', 'TotalValorPerdido', 'RiskScore']]"
   ]
  }
 ],
 "metadata": {
  "kernelspec": {
   "display_name": "venv",
   "language": "python",
   "name": "python3"
  },
  "language_info": {
   "codemirror_mode": {
    "name": "ipython",
    "version": 3
   },
   "file_extension": ".py",
   "mimetype": "text/x-python",
   "name": "python",
   "nbconvert_exporter": "python",
   "pygments_lexer": "ipython3",
   "version": "3.9.12"
  }
 },
 "nbformat": 4,
 "nbformat_minor": 2
}
