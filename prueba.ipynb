{
 "cells": [
  {
   "cell_type": "code",
   "execution_count": 4,
   "metadata": {},
   "outputs": [],
   "source": [
    "import pandas as pd"
   ]
  },
  {
   "cell_type": "code",
   "execution_count": 5,
   "metadata": {},
   "outputs": [],
   "source": [
    "xls = pd.ExcelFile('Prueba.xlsx')"
   ]
  },
  {
   "cell_type": "code",
   "execution_count": 6,
   "metadata": {},
   "outputs": [
    {
     "data": {
      "text/plain": [
       "['Instrucciones', 'Glosario', 'PuntoPartida', 'PuntoLlegada', 'Siniestros']"
      ]
     },
     "execution_count": 6,
     "metadata": {},
     "output_type": "execute_result"
    }
   ],
   "source": [
    "sheet_names = xls.sheet_names\n",
    "sheet_names"
   ]
  },
  {
   "cell_type": "code",
   "execution_count": 7,
   "metadata": {},
   "outputs": [
    {
     "data": {
      "text/plain": [
       "{'Instructions':    Unnamed: 0                                         Unnamed: 1\n",
       " 0         NaN  Este ejercicio tiene como objetivo medir las c...\n",
       " 1         NaN  Para resolver el ejercicio es obligatorio util...\n",
       " 2         NaN                                                NaN\n",
       " 3         NaN                                               Tips\n",
       " 4         NaN  a) Revisa las veces que sea necesario los dicc...,\n",
       " 'Glossary':    Unnamed: 0     Unnamed: 1                                       Unnamed: 2  \\\n",
       " 0         NaN           Hoja                                      Descripción   \n",
       " 1         NaN  Instrucciones        Contiene los requisitos de este ejercicio   \n",
       " 2         NaN       Glosario  Contiene el glosario de la información a tratar   \n",
       " 3         NaN            NaN                                              NaN   \n",
       " 4         NaN            NaN                                              NaN   \n",
       " \n",
       "     Unnamed: 3                               Unnamed: 4  \n",
       " 0      Columna                      Explicación columna  \n",
       " 1          NaN                                      NaN  \n",
       " 2         Hoja                        Nombre de la hoja  \n",
       " 3  Descripcion   Breve resúmen del contenido de la hoja  \n",
       " 4      Columna  Nombre de una columna dentro de la hoja  ,\n",
       " 'PuntoPartida':    Unnamed: 0  Unnamed: 1 Unnamed: 2             Unnamed: 3     Unnamed: 4  \\\n",
       " 0         NaN         NaN        NaN                    NaN            NaN   \n",
       " 1         NaN         NaN     IDRuta             NombreRuta  TipoUbicacion   \n",
       " 2         NaN         NaN         a1  Relleno de Inventario         Bodega   \n",
       " 3         NaN         NaN         b2   Traslado de efectivo         Tienda   \n",
       " 4         NaN         NaN         c3  Relleno de Inventario         Bodega   \n",
       " \n",
       "   Unnamed: 5            Unnamed: 6  Unnamed: 7 Unnamed: 8      Unnamed: 9  \\\n",
       " 0        NaN                   NaN         NaN        NaN             NaN   \n",
       " 1    Empresa  HoraProgramadaSalida    Longitud    Latitud  ValorMercancia   \n",
       " 2  Empresa 1              10:00:00  -100.31654    25.6963          150000   \n",
       " 3  Empresa 1              09:00:00 -100.203823  25.663144          300000   \n",
       " 4  Empresa 3              14:00:00 -100.145293  25.788839         1500000   \n",
       " \n",
       "    Unnamed: 10  \n",
       " 0          NaN  \n",
       " 1  IDConductor  \n",
       " 2            1  \n",
       " 3            1  \n",
       " 4            1  ,\n",
       " 'PuntoLlegada':    Unnamed: 0 Unnamed: 1             Unnamed: 2     Unnamed: 3 Unnamed: 4  \\\n",
       " 0         NaN     IDRuta             NombreRuta  TipoUbicacion    Empresa   \n",
       " 1         NaN         a1  Relleno de Inventario         Tienda  Empresa 1   \n",
       " 2         NaN         b2   Traslado de efectivo          Banco    Banco 1   \n",
       " 3         NaN         c3  Relleno de Inventario         Tienda  Empresa 3   \n",
       " 4         NaN         d4  Relleno de Inventario         Tienda  Empresa 2   \n",
       " \n",
       "    Unnamed: 5          Unnamed: 6 Unnamed: 7      Unnamed: 8   Unnamed: 9  \n",
       " 0  HoraSalida            Longitud    Latitud  ValorMercancia  IDConductor  \n",
       " 1    10:03:00         -100.228542  25.550476          150000            1  \n",
       " 2    08:58:00  -100.318156048963,  25.685163          300000            1  \n",
       " 3    14:10:00         -100.242414  25.664271         1500000            1  \n",
       " 4    11:00:19         -100.381548    25.6642          200000            1  ,\n",
       " 'Siniestros':    FolioSiniestro Evento        Subtipo UnidadOperativa  IDTienda  IDVehiculo  \\\n",
       " 0        10001415   Robo  Con violencia          Tienda       4.0         NaN   \n",
       " 1        10001213   Robo  Con violencia        Vehiculo       NaN         2.0   \n",
       " 2        10001224   Robo  Sin violencia        Vehiculo       NaN         2.0   \n",
       " 3        10001327   Robo  Sin violencia        Vehiculo       NaN         3.0   \n",
       " 4        10001316   Robo  Con violencia          Tienda       3.0         NaN   \n",
       " \n",
       "    ValorPerdido    Latitud    Longitud  \n",
       " 0         84723  25.808908 -100.379278  \n",
       " 1        117041  25.799021 -100.386182  \n",
       " 2        116400  25.797738 -100.381691  \n",
       " 3        117888  25.786821 -100.379681  \n",
       " 4         73533  25.777179 -100.180762  }"
      ]
     },
     "execution_count": 7,
     "metadata": {},
     "output_type": "execute_result"
    }
   ],
   "source": [
    "instructions_df = pd.read_excel(xls, 'Instrucciones')\n",
    "glossary_df = pd.read_excel(xls, 'Glosario')\n",
    "punto_partida_df = pd.read_excel(xls, 'PuntoPartida')\n",
    "punto_llegada_df = pd.read_excel(xls, 'PuntoLlegada')\n",
    "siniestros_df = pd.read_excel(xls, 'Siniestros')"
   ]
  }
 ],
 "metadata": {
  "kernelspec": {
   "display_name": "venv",
   "language": "python",
   "name": "python3"
  },
  "language_info": {
   "codemirror_mode": {
    "name": "ipython",
    "version": 3
   },
   "file_extension": ".py",
   "mimetype": "text/x-python",
   "name": "python",
   "nbconvert_exporter": "python",
   "pygments_lexer": "ipython3",
   "version": "3.9.12"
  }
 },
 "nbformat": 4,
 "nbformat_minor": 2
}
